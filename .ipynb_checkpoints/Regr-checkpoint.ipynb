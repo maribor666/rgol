{
 "cells": [
  {
   "cell_type": "code",
   "execution_count": null,
   "metadata": {},
   "outputs": [],
   "source": [
    "import numpy as np\n",
    "import pandas as pd\n",
    "import matplotlib.pyplot as plt\n",
    "\n",
    "\n",
    "train_path = \"./resources/train.csv\""
   ]
  },
  {
   "cell_type": "code",
   "execution_count": null,
   "metadata": {},
   "outputs": [],
   "source": [
    "df = pd.read_csv(train_path)"
   ]
  },
  {
   "cell_type": "code",
   "execution_count": null,
   "metadata": {},
   "outputs": [],
   "source": [
    "column_labels = ['x' + str(i) for i in range(0,10)]\n",
    "column_labels.append('n')\n",
    "column_labels.append('y')\n",
    "table = pd.DataFrame(columns=column_labels)\n",
    "table.shape[0]"
   ]
  },
  {
   "cell_type": "code",
   "execution_count": null,
   "metadata": {},
   "outputs": [],
   "source": [
    "def add_game(table, sample):\n",
    "    start_row = table.shape[0]\n",
    "    for c in range(1, 401):\n",
    "        try:\n",
    "            x5 = sample.loc['stop.' + str(c)]\n",
    "        except KeyError:\n",
    "            x5 = 0\n",
    "\n",
    "        try:\n",
    "            x1 = sample.loc['stop.' + str(c - 21)]\n",
    "        except KeyError:\n",
    "            x1 = 0\n",
    "        try:\n",
    "            x2 = sample.loc['stop.' + str(c - 20)]\n",
    "        except KeyError:\n",
    "            x2 = 0\n",
    "        try:\n",
    "            x3 = sample.loc['stop.' + str(c - 19)]\n",
    "        except KeyError:\n",
    "            x3 = 0\n",
    "\n",
    "        try:\n",
    "            x4 = sample.loc['stop.' + str(c - 1)]\n",
    "        except KeyError:\n",
    "            x4 = 0\n",
    "        try:\n",
    "            x6 = sample.loc['stop.' + str(c + 1)]\n",
    "        except KeyError:\n",
    "            x6 = 0\n",
    "\n",
    "        try:\n",
    "            x7 = sample.loc['stop.' + str(c + 19)]\n",
    "        except KeyError:\n",
    "            x7 = 0\n",
    "        try:\n",
    "            x8 = sample.loc['stop.' + str(c + 20)]\n",
    "        except KeyError:\n",
    "            x8 = 0\n",
    "        try:\n",
    "            x9 = sample.loc['stop.' + str(c + 21)]\n",
    "        except KeyError:\n",
    "            x9 = 0\n",
    "        n = sample.loc['delta']\n",
    "        y = sample.loc['start.' + str(c)]\n",
    "        table.loc[start_row - 1 + c] = [1, x1, x2, x3, x4, x5, x6, x7, x8, x9, n, y]\n",
    "#         to_append = [1, x1, x2, x3, x4, x5, x6, x7, x8, x9, n, y]\n",
    "    return table"
   ]
  },
  {
   "cell_type": "code",
   "execution_count": null,
   "metadata": {},
   "outputs": [],
   "source": [
    "table = add_game(table, df.iloc[1])\n",
    "table = add_game(table, df.iloc[2])\n",
    "\n",
    "table\n",
    "# df.iloc[1]"
   ]
  },
  {
   "cell_type": "code",
   "execution_count": null,
   "metadata": {},
   "outputs": [],
   "source": [
    "def plot_board(board, board_name=\"Board default name\"):\n",
    "    fig, ax = plt.subplots(ncols=1, figsize=(10, 5))\n",
    "    ax.set_xticks([i for i in range(1, 21)])\n",
    "    ax.set_yticks([i for i in range(1, 21)])\n",
    "    ax.imshow(board, cmap=plt.cm.Greys)\n",
    "    ax.set_title(board_name)\n",
    "    return fig"
   ]
  },
  {
   "cell_type": "code",
   "execution_count": null,
   "metadata": {},
   "outputs": [],
   "source": [
    "stop_board = sample.values[402:]\n",
    "stop_board = stop_board.reshape(20, 20)\n",
    "fig = plot_board(stop_board, board_name=\"stop board\")\n",
    "\n",
    "start_board = sample.values[2:402]\n",
    "start_board = start_board.reshape(20, 20)\n",
    "fig = plot_board(start_board, board_name=\"start board\")\n"
   ]
  },
  {
   "cell_type": "code",
   "execution_count": null,
   "metadata": {},
   "outputs": [],
   "source": [
    "# theta\n",
    "table.shape"
   ]
  },
  {
   "cell_type": "code",
   "execution_count": null,
   "metadata": {},
   "outputs": [],
   "source": [
    "def hypothesis(x, thetha):\n",
    "    matr_mult = (thetha * (-1)).transpose().dot(x)\n",
    "#     print(matr_mult)\n",
    "    return 1 / (1 + np.exp(matr_mult[0]))"
   ]
  },
  {
   "cell_type": "code",
   "execution_count": null,
   "metadata": {},
   "outputs": [],
   "source": [
    "theta = np.random.randn(11, 1)\n",
    "x = table.iloc[1, :-1]\n",
    "# x\n",
    "# type(x)"
   ]
  },
  {
   "cell_type": "code",
   "execution_count": null,
   "metadata": {},
   "outputs": [],
   "source": [
    "res = hypothesis(x, theta)\n",
    "print(res)"
   ]
  },
  {
   "cell_type": "code",
   "execution_count": null,
   "metadata": {},
   "outputs": [],
   "source": [
    "def cost(h_x, y):\n",
    "    if y == 1:\n",
    "        return -np.log(h_x)\n",
    "    elif y == 0:\n",
    "        return -np.log(1 - h_x)"
   ]
  },
  {
   "cell_type": "code",
   "execution_count": null,
   "metadata": {},
   "outputs": [],
   "source": [
    "def loss(table, theta):\n",
    "    m = table.shape[0]\n",
    "    summa = 0\n",
    "    for i in range(m):\n",
    "        x = table.iloc[i][:-1]\n",
    "        y = table.loc[i, ['y']]\n",
    "        h_x = hypothesis(x, theta)\n",
    "        summa += cost(h_x, y[0])\n",
    "    return summa / m\n",
    "        "
   ]
  },
  {
   "cell_type": "code",
   "execution_count": null,
   "metadata": {},
   "outputs": [],
   "source": [
    "loss(table, theta)\n",
    "print(theta)"
   ]
  },
  {
   "cell_type": "code",
   "execution_count": null,
   "metadata": {},
   "outputs": [],
   "source": [
    "def g_decent(table, theta, alpha=0.005):\n",
    "    m = table.shape[0]\n",
    "    for j in range(len(theta)):\n",
    "        summa = 0\n",
    "        for i in range(m):\n",
    "            x = table.iloc[i][:-1]\n",
    "            y = table.loc[i, ['y']]\n",
    "            summa += (hypothesis(x, theta) - y) * x[j]\n",
    "        theta[j] = theta[j] - (alpha / m) * summa\n",
    "    return theta\n",
    "            \n",
    "    "
   ]
  },
  {
   "cell_type": "code",
   "execution_count": null,
   "metadata": {},
   "outputs": [],
   "source": [
    "theta = g_decent(table, theta)\n",
    "theta"
   ]
  },
  {
   "cell_type": "code",
   "execution_count": null,
   "metadata": {},
   "outputs": [],
   "source": []
  },
  {
   "cell_type": "code",
   "execution_count": null,
   "metadata": {},
   "outputs": [],
   "source": []
  }
 ],
 "metadata": {
  "kernelspec": {
   "display_name": "Python 3",
   "language": "python",
   "name": "python3"
  },
  "language_info": {
   "codemirror_mode": {
    "name": "ipython",
    "version": 3
   },
   "file_extension": ".py",
   "mimetype": "text/x-python",
   "name": "python",
   "nbconvert_exporter": "python",
   "pygments_lexer": "ipython3",
   "version": "3.6.2"
  }
 },
 "nbformat": 4,
 "nbformat_minor": 2
}
