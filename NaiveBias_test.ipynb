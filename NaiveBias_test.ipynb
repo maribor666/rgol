{
 "cells": [
  {
   "cell_type": "code",
   "execution_count": 2,
   "metadata": {},
   "outputs": [],
   "source": [
    "import numpy as np\n",
    "import matplotlib.pyplot as plt\n",
    "import csv\n",
    "\n",
    "train_path = \"./resources/train.csv\""
   ]
  },
  {
   "cell_type": "code",
   "execution_count": 17,
   "metadata": {},
   "outputs": [],
   "source": [
    "file = open(train_path,mode='r')\n",
    "data = csv.reader(file)\n",
    "names = next(data)\n",
    "first_sample = next(data)\n",
    "file.close()"
   ]
  },
  {
   "cell_type": "code",
   "execution_count": 18,
   "metadata": {},
   "outputs": [
    {
     "name": "stdout",
     "output_type": "stream",
     "text": [
      "steps: 4\n"
     ]
    }
   ],
   "source": [
    "steps = int(first_sample[1])\n",
    "print(f\"steps: {steps}\")\n",
    "start = np.array([int(el) for el in first_sample[2:402]])\n",
    "start = np.reshape(start, (20, 20))\n",
    "stop = np.array([int(el) for el in first_sample[402:]])\n",
    "stop = np.reshape(stop, (20, 20))"
   ]
  },
  {
   "cell_type": "code",
   "execution_count": 20,
   "metadata": {},
   "outputs": [
    {
     "data": {
      "text/plain": [
       "Text(0.5, 1, 'Stop board')"
      ]
     },
     "execution_count": 20,
     "metadata": {},
     "output_type": "execute_result"
    },
    {
     "data": {
      "image/png": "[encoded data removed]",
      "text/plain": [
       "<Figure size 720x360 with 2 Axes>"
      ]
     },
     "metadata": {},
     "output_type": "display_data"
    }
   ],
   "source": [
    "fig, ax = plt.subplots(ncols=2, figsize=(10, 5))\n",
    "fig.tight_layout()\n",
    "ax[0].set_xticks([], [])\n",
    "ax[0].set_yticks([], [])\n",
    "ax[1].set_xticks([], [])\n",
    "ax[1].set_yticks([], [])\n",
    "ax[0].imshow(start, cmap=plt.cm.Greys)\n",
    "ax[0].set_title(\"Start board\")\n",
    "ax[1].imshow(stop, cmap=plt.cm.Greys)\n",
    "ax[1].set_title(\"Stop board\")"
   ]
  },
  {
   "cell_type": "code",
   "execution_count": 30,
   "metadata": {},
   "outputs": [],
   "source": [
    "def plot_board(board, board_name=\"Board default name\"):\n",
    "    fig, ax = plt.subplots(ncols=1, figsize=(10, 5))\n",
    "    ax.set_xticks([], [])\n",
    "    ax.set_yticks([], [])\n",
    "    ax.imshow(board, cmap=plt.cm.Greys)\n",
    "    ax.set_title(board_name)"
   ]
  },
  {
   "cell_type": "code",
   "execution_count": 41,
   "metadata": {},
   "outputs": [],
   "source": [
    "def parse_data(data):\n",
    "    \"\"\"\n",
    "    :param data - csv reader object\n",
    "    return 2 list of numpy arrays for start end stop boards\n",
    "    \"\"\"\n",
    "    start_list, stop_list = [], []\n",
    "    next(data)\n",
    "    for line in data:\n",
    "        start = np.array([int(el) for el in line[2:402]])\n",
    "        start = np.reshape(start, (20, 20))\n",
    "        stop = np.array([int(el) for el in line[402:]])\n",
    "        stop = np.reshape(stop, (20, 20))\n",
    "        start_list.append(start)\n",
    "        stop_list.append(stop)\n",
    "    return start_list, stop_list"
   ]
  },
  {
   "cell_type": "code",
   "execution_count": 42,
   "metadata": {},
   "outputs": [],
   "source": [
    "file = open(train_path,mode='r')\n",
    "data = csv.reader(file)\n",
    "start_list, stop_list = parse_data(data)"
   ]
  },
  {
   "cell_type": "code",
   "execution_count": 64,
   "metadata": {},
   "outputs": [
    {
     "data": {
      "image/png": "[encoded data removed]",
      "text/plain": [
       "<Figure size 720x360 with 1 Axes>"
      ]
     },
     "metadata": {},
     "output_type": "display_data"
    }
   ],
   "source": [
    "plot_board(start_list[300], \"300th board\")"
   ]
  },
  {
   "cell_type": "code",
   "execution_count": 61,
   "metadata": {},
   "outputs": [],
   "source": [
    "start_3dmatrix = np.array(start_list)\n",
    "stop_3dmatrix = np.array(stop_list)"
   ]
  },
  {
   "cell_type": "code",
   "execution_count": null,
   "metadata": {},
   "outputs": [],
   "source": [
    "def count_P_B_A(start_3dmatrix, stop_3d_matrix):\n",
    "    P_B_A = np.zeros((20, 20))\n",
    "#     for start, stop in zip(start_3dmatrix, stop_3d_matrix):\n",
    "    l = len(start_3dmatrix)\n",
    "    indexes\n",
    "    for (i, j), value in numpy.ndenumerate(start_3dmatrix[0]):\n",
    "        if value:"
   ]
  },
  {
   "cell_type": "code",
   "execution_count": null,
   "metadata": {},
   "outputs": [],
   "source": [
    "P_A = np.mean(start_3dmatrix, axis=0)\n",
    "P_B = np.mean(stop_3dmatrix, axis=0)\n",
    "P_B_A = count_P_B_A(start_3dmatrix, stop_3dmatrix)"
   ]
  },
  {
   "cell_type": "code",
   "execution_count": null,
   "metadata": {},
   "outputs": [],
   "source": []
  },
  {
   "cell_type": "code",
   "execution_count": null,
   "metadata": {},
   "outputs": [],
   "source": []
  }
 ],
 "metadata": {
  "kernelspec": {
   "display_name": "Python 3",
   "language": "python",
   "name": "python3"
  },
  "language_info": {
   "codemirror_mode": {
    "name": "ipython",
    "version": 3
   },
   "file_extension": ".py",
   "mimetype": "text/x-python",
   "name": "python",
   "nbconvert_exporter": "python",
   "pygments_lexer": "ipython3",
   "version": "3.7.3"
  }
 },
 "nbformat": 4,
 "nbformat_minor": 2
}
