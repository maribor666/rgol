{
 "cells": [
  {
   "cell_type": "code",
   "execution_count": 2,
   "metadata": {},
   "outputs": [],
   "source": [
    "import numpy as np\n",
    "import matplotlib.pyplot as plt\n",
    "import csv\n",
    "\n",
    "train_path = \"./resources/train.csv\""
   ]
  },
  {
   "cell_type": "code",
   "execution_count": 3,
   "metadata": {},
   "outputs": [],
   "source": [
    "def plot_board(board, board_name=\"Board default name\"):\n",
    "    fig, ax = plt.subplots(ncols=1, figsize=(10, 5))\n",
    "    ax.set_xticks([], [])\n",
    "    ax.set_yticks([], [])\n",
    "    ax.imshow(board, cmap=plt.cm.Greys)\n",
    "    ax.set_title(board_name)\n",
    "    return fig"
   ]
  },
  {
   "cell_type": "code",
   "execution_count": 4,
   "metadata": {},
   "outputs": [],
   "source": [
    "def parse_data(data):\n",
    "    \"\"\"\n",
    "    :param data - csv reader object\n",
    "    return 2 list of numpy arrays for start end stop boards\n",
    "    \"\"\"\n",
    "    start_list, stop_list = [], []\n",
    "    next(data)\n",
    "    for line in data:\n",
    "        start = np.array([int(el) for el in line[2:402]])\n",
    "        start = np.reshape(start, (20, 20))\n",
    "        stop = np.array([int(el) for el in line[402:]])\n",
    "        stop = np.reshape(stop, (20, 20))\n",
    "        start_list.append(start)\n",
    "        stop_list.append(stop)\n",
    "    return np.array(start_list), np.array(stop_list)"
   ]
  },
  {
   "cell_type": "code",
   "execution_count": 5,
   "metadata": {},
   "outputs": [],
   "source": [
    "file = open(train_path, mode='r')\n",
    "start_3dmatrix, stop_3dmatrix = parse_data(csv.reader(file))"
   ]
  },
  {
   "cell_type": "code",
   "execution_count": 6,
   "metadata": {},
   "outputs": [],
   "source": [
    "population = stop_3dmatrix[:5]\n",
    "final_states = start_3dmatrix[:5]"
   ]
  },
  {
   "cell_type": "code",
   "execution_count": 8,
   "metadata": {},
   "outputs": [
    {
     "data": {
      "image/png": "[encoded data removed]",
      "text/plain": [
       "<Figure size 720x360 with 1 Axes>"
      ]
     },
     "metadata": {},
     "output_type": "display_data"
    },
    {
     "data": {
      "image/png": "[encoded data removed]",
      "text/plain": [
       "<Figure size 720x360 with 1 Axes>"
      ]
     },
     "metadata": {},
     "output_type": "display_data"
    }
   ],
   "source": [
    "n = 10\n",
    "# print(start_3dmatrix[n])\n",
    "# print(stop_3dmatrix[n])\n",
    "fig1 = plot_board(start_3dmatrix[n], board_name='Start')\n",
    "fig2 = plot_board(stop_3dmatrix[n], board_name='Stop')\n",
    "plt.grid()"
   ]
  },
  {
   "cell_type": "code",
   "execution_count": 12,
   "metadata": {},
   "outputs": [
    {
     "name": "stdout",
     "output_type": "stream",
     "text": [
      "(20, 20)\n"
     ]
    }
   ],
   "source": [
    "print(start_3dmatrix[10].shape)\n",
    "sample = start"
   ]
  },
  {
   "cell_type": "code",
   "execution_count": null,
   "metadata": {},
   "outputs": [],
   "source": []
  }
 ],
 "metadata": {
  "kernelspec": {
   "display_name": "Python 3",
   "language": "python",
   "name": "python3"
  },
  "language_info": {
   "codemirror_mode": {
    "name": "ipython",
    "version": 3
   },
   "file_extension": ".py",
   "mimetype": "text/x-python",
   "name": "python",
   "nbconvert_exporter": "python",
   "pygments_lexer": "ipython3",
   "version": "3.6.2"
  }
 },
 "nbformat": 4,
 "nbformat_minor": 2
}
