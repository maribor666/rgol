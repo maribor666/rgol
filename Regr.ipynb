{
 "cells": [
  {
   "cell_type": "code",
   "execution_count": null,
   "metadata": {},
   "outputs": [],
   "source": [
    "import numpy as np\n",
    "import pandas as pd\n",
    "import matplotlib.pyplot as plt\n",
    "\n",
    "\n",
    "train_path = \"./resources/train.csv\""
   ]
  },
  {
   "cell_type": "code",
   "execution_count": null,
   "metadata": {},
   "outputs": [],
   "source": [
    "df = pd.read_csv(train_path)\n",
    "df"
   ]
  },
  {
   "cell_type": "code",
   "execution_count": null,
   "metadata": {},
   "outputs": [],
   "source": [
    "column_labels = ['x' + str(i) for i in range(0,10)]\n",
    "column_labels.append('n')\n",
    "column_labels.append('y')\n",
    "table = pd.DataFrame(columns=column_labels)\n",
    "table"
   ]
  },
  {
   "cell_type": "code",
   "execution_count": null,
   "metadata": {},
   "outputs": [],
   "source": [
    "sample = df.iloc[10]\n",
    "n = df.iloc[10, 1]\n",
    "# type(sample)\n",
    "sample.loc['stop.1']\n",
    "sample.loc['stop.400']\n",
    "for c in range(1, 401):\n",
    "    try:\n",
    "        x5 = sample.loc['stop.' + str(c)]\n",
    "    except KeyError:\n",
    "        x5 = 0\n",
    "        \n",
    "    try:\n",
    "        x1 = sample.loc['stop.' + str(c - 21)]\n",
    "    except KeyError:\n",
    "        x1 = 0\n",
    "    try:\n",
    "        x2 = sample.loc['stop.' + str(c - 20)]\n",
    "    except KeyError:\n",
    "        x2 = 0\n",
    "    try:\n",
    "        x3 = sample.loc['stop.' + str(c - 19)]\n",
    "    except KeyError:\n",
    "        x3 = 0\n",
    "        \n",
    "    try:\n",
    "        x4 = sample.loc['stop.' + str(c - 1)]\n",
    "    except KeyError:\n",
    "        x4 = 0\n",
    "    try:\n",
    "        x6 = sample.loc['stop.' + str(c + 1)]\n",
    "    except KeyError:\n",
    "        x6 = 0\n",
    "    \n",
    "    try:\n",
    "        x7 = sample.loc['stop.' + str(c + 19)]\n",
    "    except KeyError:\n",
    "        x7 = 0\n",
    "    try:\n",
    "        x8 = sample.loc['stop.' + str(c + 20)]\n",
    "    except KeyError:\n",
    "        x8 = 0\n",
    "    try:\n",
    "        x9 = sample.loc['stop.' + str(c + 21)]\n",
    "    except KeyError:\n",
    "        x9 = 0\n",
    "    y = sample.loc['start.' + str(c)]\n",
    "    table.loc[c - 1] = [1, x1,x2,x3,x4,x5,x6,x7,x8,x9,n,y]\n",
    "    "
   ]
  },
  {
   "cell_type": "code",
   "execution_count": 76,
   "metadata": {},
   "outputs": [
    {
     "data": {
      "text/plain": [
       "(401, 12)"
      ]
     },
     "execution_count": 76,
     "metadata": {},
     "output_type": "execute_result"
    }
   ],
   "source": [
    "table.shape"
   ]
  },
  {
   "cell_type": "code",
   "execution_count": null,
   "metadata": {},
   "outputs": [],
   "source": [
    "stop_board = sample.values[402:]\n",
    "stop_board = stop_board.reshape(20, 20)\n",
    "fig = plot_board(stop_board, board_name=\"stop board\")\n",
    "\n",
    "start_board = sample.values[2:402]\n",
    "start_board = start_board.reshape(20, 20)\n",
    "fig = plot_board(start_board, board_name=\"start board\")\n",
    "\n"
   ]
  },
  {
   "cell_type": "code",
   "execution_count": null,
   "metadata": {},
   "outputs": [],
   "source": [
    "def plot_board(board, board_name=\"Board default name\"):\n",
    "    fig, ax = plt.subplots(ncols=1, figsize=(10, 5))\n",
    "    ax.set_xticks([i for i in range(1, 21)])\n",
    "    ax.set_yticks([i for i in range(1, 21)])\n",
    "    ax.imshow(board, cmap=plt.cm.Greys)\n",
    "    ax.set_title(board_name)\n",
    "    return fig"
   ]
  },
  {
   "cell_type": "code",
   "execution_count": 77,
   "metadata": {},
   "outputs": [
    {
     "data": {
      "text/plain": [
       "array([[-0.57815569],\n",
       "       [ 1.9749019 ],\n",
       "       [-0.56405624],\n",
       "       [-0.44227723],\n",
       "       [-2.02119858],\n",
       "       [ 0.28536659],\n",
       "       [-1.11144804],\n",
       "       [ 0.73960757],\n",
       "       [-0.24952026],\n",
       "       [ 0.55594449],\n",
       "       [-0.06896066]])"
      ]
     },
     "execution_count": 77,
     "metadata": {},
     "output_type": "execute_result"
    }
   ],
   "source": [
    "theta = np.random.randn(11, 1)\n",
    "theta"
   ]
  },
  {
   "cell_type": "code",
   "execution_count": null,
   "metadata": {},
   "outputs": [],
   "source": [
    "def hypothesis(x, thetha):\n",
    "    "
   ]
  }
 ],
 "metadata": {
  "kernelspec": {
   "display_name": "Python 3",
   "language": "python",
   "name": "python3"
  },
  "language_info": {
   "codemirror_mode": {
    "name": "ipython",
    "version": 3
   },
   "file_extension": ".py",
   "mimetype": "text/x-python",
   "name": "python",
   "nbconvert_exporter": "python",
   "pygments_lexer": "ipython3",
   "version": "3.6.2"
  }
 },
 "nbformat": 4,
 "nbformat_minor": 2
}
