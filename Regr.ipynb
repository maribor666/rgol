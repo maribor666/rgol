{
 "cells": [
  {
   "cell_type": "code",
   "execution_count": 91,
   "metadata": {},
   "outputs": [],
   "source": [
    "import numpy as np\n",
    "import pandas as pd\n",
    "import matplotlib.pyplot as plt\n",
    "\n",
    "\n",
    "train_path = \"./resources/train.csv\""
   ]
  },
  {
   "cell_type": "code",
   "execution_count": 92,
   "metadata": {},
   "outputs": [],
   "source": [
    "df = pd.read_csv(train_path)"
   ]
  },
  {
   "cell_type": "code",
   "execution_count": 93,
   "metadata": {},
   "outputs": [
    {
     "data": {
      "text/plain": [
       "0"
      ]
     },
     "execution_count": 93,
     "metadata": {},
     "output_type": "execute_result"
    }
   ],
   "source": [
    "column_labels = ['x' + str(i) for i in range(0,10)]\n",
    "column_labels.append('n')\n",
    "column_labels.append('y')\n",
    "table = pd.DataFrame(columns=column_labels)\n",
    "table.shape[0]"
   ]
  },
  {
   "cell_type": "code",
   "execution_count": 94,
   "metadata": {},
   "outputs": [],
   "source": [
    "def add_game(table, sample):\n",
    "    start_row = table.shape[0]\n",
    "    for c in range(1, 401):\n",
    "        try:\n",
    "            x5 = sample.loc['stop.' + str(c)]\n",
    "        except KeyError:\n",
    "            x5 = 0\n",
    "\n",
    "        try:\n",
    "            x1 = sample.loc['stop.' + str(c - 21)]\n",
    "        except KeyError:\n",
    "            x1 = 0\n",
    "        try:\n",
    "            x2 = sample.loc['stop.' + str(c - 20)]\n",
    "        except KeyError:\n",
    "            x2 = 0\n",
    "        try:\n",
    "            x3 = sample.loc['stop.' + str(c - 19)]\n",
    "        except KeyError:\n",
    "            x3 = 0\n",
    "\n",
    "        try:\n",
    "            x4 = sample.loc['stop.' + str(c - 1)]\n",
    "        except KeyError:\n",
    "            x4 = 0\n",
    "        try:\n",
    "            x6 = sample.loc['stop.' + str(c + 1)]\n",
    "        except KeyError:\n",
    "            x6 = 0\n",
    "\n",
    "        try:\n",
    "            x7 = sample.loc['stop.' + str(c + 19)]\n",
    "        except KeyError:\n",
    "            x7 = 0\n",
    "        try:\n",
    "            x8 = sample.loc['stop.' + str(c + 20)]\n",
    "        except KeyError:\n",
    "            x8 = 0\n",
    "        try:\n",
    "            x9 = sample.loc['stop.' + str(c + 21)]\n",
    "        except KeyError:\n",
    "            x9 = 0\n",
    "        n = sample.loc['delta']\n",
    "        y = sample.loc['start.' + str(c)]\n",
    "        table.loc[start_row - 1 + c] = [1, x1, x2, x3, x4, x5, x6, x7, x8, x9, n, y]\n",
    "#         to_append = [1, x1, x2, x3, x4, x5, x6, x7, x8, x9, n, y]\n",
    "    return table"
   ]
  },
  {
   "cell_type": "code",
   "execution_count": 95,
   "metadata": {},
   "outputs": [
    {
     "name": "stdout",
     "output_type": "stream",
     "text": [
      "0\n",
      "1\n",
      "2\n",
      "3\n",
      "4\n",
      "5\n",
      "6\n",
      "7\n",
      "8\n",
      "9\n",
      "10\n",
      "11\n",
      "12\n",
      "13\n",
      "14\n",
      "15\n",
      "16\n",
      "17\n",
      "18\n",
      "19\n",
      "20\n",
      "21\n",
      "22\n",
      "23\n",
      "24\n",
      "25\n",
      "26\n",
      "27\n",
      "28\n",
      "29\n",
      "30\n",
      "31\n",
      "32\n",
      "33\n",
      "34\n",
      "35\n",
      "36\n",
      "37\n",
      "38\n",
      "39\n",
      "40\n",
      "41\n",
      "42\n",
      "43\n",
      "44\n",
      "45\n",
      "46\n",
      "47\n",
      "48\n",
      "49\n",
      "50\n",
      "51\n",
      "52\n",
      "53\n",
      "54\n",
      "55\n",
      "56\n",
      "57\n",
      "58\n",
      "59\n",
      "60\n",
      "61\n",
      "62\n",
      "63\n",
      "64\n",
      "65\n",
      "66\n",
      "67\n",
      "68\n",
      "69\n",
      "70\n",
      "71\n",
      "72\n",
      "73\n",
      "74\n",
      "75\n",
      "76\n",
      "77\n",
      "78\n",
      "79\n",
      "80\n",
      "81\n",
      "82\n",
      "83\n",
      "84\n",
      "85\n",
      "86\n",
      "87\n",
      "88\n",
      "89\n",
      "90\n",
      "91\n",
      "92\n",
      "93\n",
      "94\n",
      "95\n",
      "96\n",
      "97\n",
      "98\n",
      "99\n",
      "100\n",
      "101\n"
     ]
    }
   ],
   "source": [
    "# table = add_game(table, df.iloc[1])\n",
    "# table = add_game(table, df.iloc[2])\n",
    "# table.shape\n",
    "for index, row in df.iterrows():\n",
    "    table = add_game(table, row)\n",
    "    print(index)\n",
    "    if index > 100:\n",
    "        break"
   ]
  },
  {
   "cell_type": "code",
   "execution_count": 96,
   "metadata": {},
   "outputs": [],
   "source": [
    "def plot_board(board, board_name=\"Board default name\"):\n",
    "    fig, ax = plt.subplots(ncols=1, figsize=(10, 5))\n",
    "    ax.set_xticks([i for i in range(1, 21)])\n",
    "    ax.set_yticks([i for i in range(1, 21)])\n",
    "    ax.imshow(board, cmap=plt.cm.Greys)\n",
    "    ax.set_title(board_name)\n",
    "    return fig"
   ]
  },
  {
   "cell_type": "code",
   "execution_count": 98,
   "metadata": {},
   "outputs": [
    {
     "ename": "ValueError",
     "evalue": "cannot reshape array of size 484776 into shape (20,20)",
     "output_type": "error",
     "traceback": [
      "\u001b[0;31m---------------------------------------------------------------------------\u001b[0m",
      "\u001b[0;31mValueError\u001b[0m                                Traceback (most recent call last)",
      "\u001b[0;32m<ipython-input-98-385f3e63302b>\u001b[0m in \u001b[0;36m<module>\u001b[0;34m\u001b[0m\n\u001b[1;32m      1\u001b[0m \u001b[0mstop_board\u001b[0m \u001b[0;34m=\u001b[0m \u001b[0mtable\u001b[0m\u001b[0;34m.\u001b[0m\u001b[0mvalues\u001b[0m\u001b[0;34m[\u001b[0m\u001b[0;36m402\u001b[0m\u001b[0;34m:\u001b[0m\u001b[0;34m]\u001b[0m\u001b[0;34m\u001b[0m\u001b[0m\n\u001b[0;32m----> 2\u001b[0;31m \u001b[0mstop_board\u001b[0m \u001b[0;34m=\u001b[0m \u001b[0mstop_board\u001b[0m\u001b[0;34m.\u001b[0m\u001b[0mreshape\u001b[0m\u001b[0;34m(\u001b[0m\u001b[0;36m20\u001b[0m\u001b[0;34m,\u001b[0m \u001b[0;36m20\u001b[0m\u001b[0;34m)\u001b[0m\u001b[0;34m\u001b[0m\u001b[0m\n\u001b[0m\u001b[1;32m      3\u001b[0m \u001b[0mfig\u001b[0m \u001b[0;34m=\u001b[0m \u001b[0mplot_board\u001b[0m\u001b[0;34m(\u001b[0m\u001b[0mstop_board\u001b[0m\u001b[0;34m,\u001b[0m \u001b[0mboard_name\u001b[0m\u001b[0;34m=\u001b[0m\u001b[0;34m\"stop board\"\u001b[0m\u001b[0;34m)\u001b[0m\u001b[0;34m\u001b[0m\u001b[0m\n\u001b[1;32m      4\u001b[0m \u001b[0;34m\u001b[0m\u001b[0m\n\u001b[1;32m      5\u001b[0m \u001b[0mstart_board\u001b[0m \u001b[0;34m=\u001b[0m \u001b[0mtable\u001b[0m\u001b[0;34m.\u001b[0m\u001b[0mvalues\u001b[0m\u001b[0;34m[\u001b[0m\u001b[0;36m2\u001b[0m\u001b[0;34m:\u001b[0m\u001b[0;36m402\u001b[0m\u001b[0;34m]\u001b[0m\u001b[0;34m\u001b[0m\u001b[0m\n",
      "\u001b[0;31mValueError\u001b[0m: cannot reshape array of size 484776 into shape (20,20)"
     ]
    }
   ],
   "source": [
    "stop_board = table.values[402:]\n",
    "stop_board = stop_board.reshape(20, 20)\n",
    "fig = plot_board(stop_board, board_name=\"stop board\")\n",
    "\n",
    "start_board = table.values[2:402]\n",
    "start_board = start_board.reshape(20, 20)\n",
    "fig = plot_board(start_board, board_name=\"start board\")\n"
   ]
  },
  {
   "cell_type": "code",
   "execution_count": 99,
   "metadata": {},
   "outputs": [
    {
     "data": {
      "text/plain": [
       "(40800, 12)"
      ]
     },
     "execution_count": 99,
     "metadata": {},
     "output_type": "execute_result"
    }
   ],
   "source": [
    "# theta\n",
    "table.shape"
   ]
  },
  {
   "cell_type": "code",
   "execution_count": 100,
   "metadata": {},
   "outputs": [],
   "source": [
    "def hypothesis(x, thetha):\n",
    "    matr_mult = (thetha * (-1)).transpose().dot(x)\n",
    "#     print(matr_mult)\n",
    "    return 1 / (1 + np.exp(matr_mult[0]))"
   ]
  },
  {
   "cell_type": "code",
   "execution_count": 101,
   "metadata": {},
   "outputs": [],
   "source": [
    "theta = np.random.randn(11, 1)\n",
    "x = table.iloc[1, :-1]\n",
    "# x\n",
    "# type(x)"
   ]
  },
  {
   "cell_type": "code",
   "execution_count": 102,
   "metadata": {},
   "outputs": [
    {
     "name": "stdout",
     "output_type": "stream",
     "text": [
      "0.9551232905056839\n"
     ]
    }
   ],
   "source": [
    "res = hypothesis(x, theta)\n",
    "print(res)"
   ]
  },
  {
   "cell_type": "code",
   "execution_count": 103,
   "metadata": {},
   "outputs": [],
   "source": [
    "def cost(h_x, y):\n",
    "    if y == 1:\n",
    "        return -np.log(h_x)\n",
    "    elif y == 0:\n",
    "        return -np.log(1 - h_x)"
   ]
  },
  {
   "cell_type": "code",
   "execution_count": 104,
   "metadata": {},
   "outputs": [],
   "source": [
    "def loss(table, theta):\n",
    "    m = table.shape[0]\n",
    "    summa = 0\n",
    "    for i in range(m):\n",
    "        x = table.iloc[i][:-1]\n",
    "        y = table.loc[i, ['y']]\n",
    "        h_x = hypothesis(x, theta)\n",
    "        summa += cost(h_x, y[0])\n",
    "    return summa / m\n",
    "        "
   ]
  },
  {
   "cell_type": "code",
   "execution_count": 105,
   "metadata": {},
   "outputs": [
    {
     "name": "stdout",
     "output_type": "stream",
     "text": [
      "[[ 1.22590786]\n",
      " [ 0.70659499]\n",
      " [-1.0875319 ]\n",
      " [-0.67047384]\n",
      " [-0.07705887]\n",
      " [-0.01798459]\n",
      " [-0.96377318]\n",
      " [-0.6816715 ]\n",
      " [-0.01164094]\n",
      " [ 1.59216842]\n",
      " [ 0.45800341]]\n"
     ]
    }
   ],
   "source": [
    "loss(table, theta)\n",
    "print(theta)"
   ]
  },
  {
   "cell_type": "code",
   "execution_count": 106,
   "metadata": {},
   "outputs": [],
   "source": [
    "def g_decent(table, theta, alpha=0.005):\n",
    "    m = table.shape[0]\n",
    "    for j in range(len(theta)):\n",
    "        summa = 0\n",
    "        for i in range(m):\n",
    "            x = table.iloc[i][:-1]\n",
    "            y = table.loc[i, ['y']]\n",
    "            summa += (hypothesis(x, theta) - y) * x[j]\n",
    "        theta[j] = theta[j] - (alpha / m) * summa\n",
    "    return theta\n",
    "            \n",
    "    "
   ]
  },
  {
   "cell_type": "code",
   "execution_count": 107,
   "metadata": {},
   "outputs": [
    {
     "data": {
      "text/plain": [
       "array([[ 1.22207808],\n",
       "       [ 0.70627055],\n",
       "       [-1.08776019],\n",
       "       [-0.6707301 ],\n",
       "       [-0.07735521],\n",
       "       [-0.01819727],\n",
       "       [-0.96402422],\n",
       "       [-0.68194976],\n",
       "       [-0.011928  ],\n",
       "       [ 1.59181419],\n",
       "       [ 0.4457742 ]])"
      ]
     },
     "execution_count": 107,
     "metadata": {},
     "output_type": "execute_result"
    }
   ],
   "source": [
    "theta = g_decent(table, theta)\n",
    "theta"
   ]
  },
  {
   "cell_type": "code",
   "execution_count": 109,
   "metadata": {},
   "outputs": [
    {
     "data": {
      "text/plain": [
       "id          1\n",
       "delta       4\n",
       "start.1     0\n",
       "start.2     0\n",
       "start.3     0\n",
       "start.4     0\n",
       "start.5     0\n",
       "start.6     0\n",
       "start.7     0\n",
       "start.8     0\n",
       "start.9     0\n",
       "start.10    0\n",
       "start.11    0\n",
       "start.12    0\n",
       "start.13    0\n",
       "start.14    0\n",
       "start.15    0\n",
       "start.16    0\n",
       "start.17    0\n",
       "start.18    0\n",
       "start.19    0\n",
       "start.20    0\n",
       "start.21    0\n",
       "start.22    0\n",
       "start.23    0\n",
       "start.24    0\n",
       "start.25    0\n",
       "start.26    0\n",
       "start.27    0\n",
       "start.28    0\n",
       "           ..\n",
       "stop.371    0\n",
       "stop.372    0\n",
       "stop.373    0\n",
       "stop.374    0\n",
       "stop.375    0\n",
       "stop.376    0\n",
       "stop.377    0\n",
       "stop.378    0\n",
       "stop.379    0\n",
       "stop.380    0\n",
       "stop.381    0\n",
       "stop.382    1\n",
       "stop.383    1\n",
       "stop.384    0\n",
       "stop.385    0\n",
       "stop.386    0\n",
       "stop.387    0\n",
       "stop.388    0\n",
       "stop.389    0\n",
       "stop.390    0\n",
       "stop.391    0\n",
       "stop.392    0\n",
       "stop.393    0\n",
       "stop.394    0\n",
       "stop.395    0\n",
       "stop.396    0\n",
       "stop.397    0\n",
       "stop.398    0\n",
       "stop.399    0\n",
       "stop.400    0\n",
       "Name: 0, Length: 802, dtype: int64"
      ]
     },
     "execution_count": 109,
     "metadata": {},
     "output_type": "execute_result"
    }
   ],
   "source": [
    "df.iloc[0]"
   ]
  },
  {
   "cell_type": "code",
   "execution_count": 117,
   "metadata": {},
   "outputs": [
    {
     "data": {
      "image/png": "[encoded data removed]",
      "text/plain": [
       "<Figure size 720x360 with 1 Axes>"
      ]
     },
     "metadata": {
      "needs_background": "light"
     },
     "output_type": "display_data"
    },
    {
     "data": {
      "image/png": "[encoded data removed]",
      "text/plain": [
       "<Figure size 720x360 with 1 Axes>"
      ]
     },
     "metadata": {
      "needs_background": "light"
     },
     "output_type": "display_data"
    }
   ],
   "source": [
    "sample = df.iloc[3]\n",
    "stop_board = sample.values[402:]\n",
    "stop_board = stop_board.reshape(20, 20)\n",
    "fig = plot_board(stop_board, board_name=\"stop board\")\n",
    "\n",
    "start_board = sample.values[2:402]\n",
    "start_board = start_board.reshape(20, 20)\n",
    "fig = plot_board(start_board, board_name=\"start board\")"
   ]
  },
  {
   "cell_type": "code",
   "execution_count": null,
   "metadata": {},
   "outputs": [],
   "source": [
    "from pprint import pprint\n",
    "\n",
    "predict_board = []\n",
    "X = table.loc[1200:1599, table.columns != 'y']\n",
    "it = iter(X.values)\n",
    "for line in start_board:\n",
    "    predict_board_line = []\n",
    "    for el in line:\n",
    "        x = next(it)\n",
    "        val = hypothesis(x, theta)\n",
    "#         print(val)\n",
    "        if val > .5:\n",
    "            predict_board_line.append(1)\n",
    "        else:\n",
    "            predict_board_line.append(0)\n",
    "    predict_board.append(predict_board_line)\n",
    "pprint(predict_board)"
   ]
  },
  {
   "cell_type": "code",
   "execution_count": null,
   "metadata": {},
   "outputs": [],
   "source": [
    "# import numpy as np\n",
    "\n",
    "def rolling_window(a, shape):  # rolling window for 2D array\n",
    "    s = (a.shape[0] - shape[0] + 1,) + (a.shape[1] - shape[1] + 1,) + shape\n",
    "    strides = a.strides + a.strides\n",
    "    return np.lib.stride_tricks.as_strided(a, shape=s, strides=strides)\n",
    "\n",
    "a = np.array([[0,  1,  2,  3,  4,  5],\n",
    "              [6,  7,  8,  9, 10,  11],\n",
    "              [12, 13, 14, 15, 7,   8],\n",
    "              [18, 19, 20, 21, 13, 14],\n",
    "              [24, 25, 26, 27, 19, 20],\n",
    "              [30, 31, 32, 33, 34, 35]], dtype=np.int)\n",
    "b = np.arange(36, dtype=np.float).reshape(6,6)\n",
    "present = np.array([[7,8],[13,14],[19,20]], dtype=np.int)\n",
    "absent  = np.array([[7,8],[42,14],[19,20]], dtype=np.int)\n",
    "\n",
    "found = np.all(np.all(rolling_window(a, present.shape) == present, axis=2), axis=2)\n",
    "print(np.transpose(found.nonzero()))\n",
    "found = np.all(np.all(rolling_window(b, present.shape) == present, axis=2), axis=2)\n",
    "print(np.transpose(found.nonzero()))\n",
    "found = np.all(np.all(rolling_window(a, absent.shape) == absent, axis=2), axis=2)\n",
    "print(np.transpose(found.nonzero()))\n"
   ]
  },
  {
   "cell_type": "code",
   "execution_count": null,
   "metadata": {},
   "outputs": [],
   "source": []
  }
 ],
 "metadata": {
  "kernelspec": {
   "display_name": "Python 3",
   "language": "python",
   "name": "python3"
  },
  "language_info": {
   "codemirror_mode": {
    "name": "ipython",
    "version": 3
   },
   "file_extension": ".py",
   "mimetype": "text/x-python",
   "name": "python",
   "nbconvert_exporter": "python",
   "pygments_lexer": "ipython3",
   "version": "3.6.2"
  }
 },
 "nbformat": 4,
 "nbformat_minor": 2
}
